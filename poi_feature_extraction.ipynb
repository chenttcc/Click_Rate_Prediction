{
 "cells": [
  {
   "cell_type": "markdown",
   "source": [
    "# Feature Engineering For Merchants"
   ],
   "metadata": {
    "collapsed": false
   },
   "id": "75a81135f5c5a9e4"
  },
  {
   "cell_type": "markdown",
   "source": [
    "* Features:\n",
    "    * The Average Price and Score For the past 30 days\n",
    "    * The difference between the average price and the average price of merchants in the same category, the category includes kind and location.\n",
    "    * The average exposure rate for the past 30 days and 7 days"
   ],
   "metadata": {
    "collapsed": false
   },
   "id": "707cb37272a42fbe"
  },
  {
   "cell_type": "code",
   "execution_count": 1,
   "outputs": [
    {
     "name": "stdout",
     "output_type": "stream",
     "text": [
      "/workdir/data/uec_tangc22\n"
     ]
    }
   ],
   "source": [
    "import pandas as pd\n",
    "import os\n",
    "print(os.getcwd())"
   ],
   "metadata": {
    "collapsed": false
   },
   "id": "84b01717-6922-4fc2-ac89-5093844ade94"
  },
  {
   "cell_type": "code",
   "execution_count": 2,
   "id": "8d8acd66-02cb-40d4-bb7c-96757dc78d49",
   "metadata": {},
   "outputs": [],
   "source": [
    "train = pd.read_csv('/workdir/data/uec_1149625019/merged_data/train_request_uuid_poi_prices.csv')"
   ]
  },
  {
   "cell_type": "code",
   "execution_count": 6,
   "id": "ff4f48c3-ead7-4740-aaea-37e78e9d47bb",
   "metadata": {},
   "outputs": [
    {
     "data": {
      "text/plain": [
       "50"
      ]
     },
     "execution_count": 6,
     "metadata": {},
     "output_type": "execute_result"
    }
   ],
   "source": [
    "train['门店标题'].apply(lambda x:len(x)).max()"
   ]
  },
  {
   "cell_type": "code",
   "execution_count": 8,
   "id": "e652c19d-2626-4077-916a-c7036bcd47ac",
   "metadata": {},
   "outputs": [],
   "source": [
    "with open('stopwords.txt','r',encoding = 'utf-8') as f:\n",
    "    stopwords_list = [line.strip() for line in f.readlines()]\n",
    "import tensorflow as tf\n",
    "from tensorflow.keras.preprocessing.text import Tokenizer\n",
    "import jieba\n",
    "import numpy as np\n",
    "def clean_word(x):\n",
    "    if x is not np.nan:\n",
    "        words = jieba.lcut(x.strip())\n",
    "        words = [word.strip('.,!?/\"-.()&').lower() for word in words if word not in stopwords_list]  \n",
    "        return ' '.join(words)"
   ]
  },
  {
   "cell_type": "code",
   "execution_count": 9,
   "id": "1e479096-e7ef-45bc-a30b-948179c4ed8f",
   "metadata": {},
   "outputs": [
    {
     "name": "stderr",
     "output_type": "stream",
     "text": [
      "Building prefix dict from the default dictionary ...\n",
      "Loading model from cache /tmp/jieba.cache\n",
      "Loading model cost 0.491 seconds.\n",
      "Prefix dict has been built successfully.\n"
     ]
    }
   ],
   "source": [
    "vocab_size = 10000\n",
    "X = train['门店标题'].apply(clean_word)\n",
    "tokenizer = Tokenizer(num_words=vocab_size)\n",
    "tokenizer.fit_on_texts(X.tolist())\n",
    "X = tokenizer.texts_to_sequences(X.tolist())"
   ]
  },
  {
   "cell_type": "code",
   "execution_count": 1,
   "id": "2d27f868-f46e-4192-aa7b-054ba9e675f8",
   "metadata": {},
   "outputs": [],
   "source": [
    "import pandas as pd\n",
    "train = pd.read_csv('/workdir/data/作业3：广告方向/910f1a6b-广告CTR预估/910f1a6b-table_impr_click_action_train.csv')\n",
    "poi = pd.read_csv('/workdir/data/作业3：广告方向/910f1a6b-广告CTR预估/910f1a6b-table_poi_detail.csv')\n",
    "deal = pd.read_csv('/workdir/data/作业3：广告方向/910f1a6b-广告CTR预估/910f1a6b-table_deal_detail.csv')\n",
    "test = pd.read_csv('/workdir/data/作业3：广告方向/910f1a6b-广告CTR预估/910f1a6b-table_impr_click_action_test_nolabel.csv')\n"
   ]
  },
  {
   "cell_type": "code",
   "execution_count": 2,
   "id": "79a5c07d-f957-488c-814d-28e161239bad",
   "metadata": {},
   "outputs": [
    {
     "name": "stdout",
     "output_type": "stream",
     "text": [
      "Index(['Unnamed: 0', 'label', '请求ID', '门店ID', '位次', '日期'], dtype='object')\n",
      "Index(['门店ID', '门店标题', '门店一级类目', '门店二级类目', '门店三级类目', '门店商圈', '门店纬度', '门店经度',\n",
      "       '平均分数', '平均价格'],\n",
      "      dtype='object')\n",
      "Index(['门店ID', '团单价格', '团单原始价格', '团单ID'], dtype='object')\n",
      "Index(['Unnamed: 0', 'ID', '请求ID', '门店ID', '日期'], dtype='object')\n"
     ]
    }
   ],
   "source": [
    "print(train.columns)\n",
    "print(poi.columns)\n",
    "print(deal.columns)\n",
    "print(test.columns)"
   ]
  },
  {
   "cell_type": "code",
   "execution_count": 12,
   "id": "7dc8ff16-2592-4506-8efa-c87b76e57bb3",
   "metadata": {},
   "outputs": [
    {
     "data": {
      "text/plain": [
       "6158"
      ]
     },
     "execution_count": 12,
     "metadata": {},
     "output_type": "execute_result"
    }
   ],
   "source": [
    "poi['平均分数'].isnull().astype('int').sum()"
   ]
  },
  {
   "cell_type": "code",
   "execution_count": 10,
   "id": "d69f796f-6d05-42eb-9147-0ab3c23760d4",
   "metadata": {},
   "outputs": [
    {
     "data": {
      "text/plain": [
       "141685"
      ]
     },
     "execution_count": 10,
     "metadata": {},
     "output_type": "execute_result"
    }
   ],
   "source": [
    "test['门店ID'].nunique()"
   ]
  },
  {
   "cell_type": "code",
   "execution_count": 4,
   "id": "39c8b681-e5c5-4ff2-8304-d6f37226dbce",
   "metadata": {},
   "outputs": [],
   "source": [
    "shop_id = pd.DataFrame()\n",
    "shop_id[['门店ID','门店一级类目', '门店二级类目', '门店三级类目', '门店商圈','平均分数']] = poi[['门店ID','门店一级类目', '门店二级类目', '门店三级类目', '门店商圈','平均分数']]\n",
    "# Average Price\n",
    "shop_id =shop_id.merge(deal.groupby('门店ID')[['团单价格','团单原始价格']].mean(),how='left',on = '门店ID')"
   ]
  },
  {
   "cell_type": "code",
   "execution_count": 5,
   "id": "026d3bd2-d0b7-4724-b776-92e0749bbdff",
   "metadata": {},
   "outputs": [],
   "source": [
    "# 一级类目平均价格价差 Average Price Spread for Category 1\n",
    "shop_id['fir_category_price_diff'] = shop_id['团单价格'] - shop_id.groupby('门店一级类目')['团单价格'].transform('mean')\n",
    "# 二级类目平均价格价差 Average Price Spread for Category 2\n",
    "shop_id['sec_category_price_diff'] = shop_id['团单价格'] - shop_id.groupby('门店二级类目')['团单价格'].transform('mean')\n",
    "# 三级类目平均价格价差 Average Price Spread for Category 3\n",
    "shop_id['thi_category_price_diff'] = shop_id['团单价格'] - shop_id.groupby('门店三级类目')['团单价格'].transform('mean')\n",
    "# 一级类目平均分数分差 Average Score Spread for Category 1\n",
    "shop_id['fir_category_score_diff'] = shop_id['平均分数'] - shop_id.groupby('门店一级类目')['平均分数'].transform('mean')\n",
    "# 二级类目平均分数分差 Average Score Spread for Category 2\n",
    "shop_id['sec_category_score_diff'] = shop_id['平均分数'] - shop_id.groupby('门店二级类目')['平均分数'].transform('mean')\n",
    "# 三级类目平均分数分差 Average Score Spread for Category 3\n",
    "shop_id['thi_category_score_diff'] = shop_id['平均分数'] - shop_id.groupby('门店三级类目')['平均分数'].transform('mean')\n",
    "# 商圈平均价格价差\n",
    "shop_id['mall_price_diff'] = shop_id['团单价格'] - shop_id.groupby('门店商圈')['团单价格'].transform('mean')\n",
    "# 商圈平均分数分差\n",
    "shop_id['mall_score_diff'] = shop_id['平均分数'] - shop_id.groupby('门店商圈')['平均分数'].transform('mean')"
   ]
  },
  {
   "cell_type": "code",
   "execution_count": 6,
   "id": "5bc7fe24-d6fd-429e-a4b2-51880ec03ab3",
   "metadata": {},
   "outputs": [],
   "source": [
    "# Average Exposure Rate/ Recent Exposure Rate\n",
    "shop_id = shop_id.merge(train.groupby('门店ID')['请求ID'].count().rename('all_expose'),how='left',on = '门店ID')\n",
    "shop_id = shop_id.merge(train[train['label']==1].groupby('门店ID')['请求ID'].count().fillna(0).rename('all_click'),how='left',on = '门店ID')\n",
    "shop_id = shop_id.merge(train.groupby('门店ID')['位次'].mean().rename('average_position'),how='left',on = '门店ID')\n",
    "min_date = '2022-08-23'\n",
    "shop_id = shop_id.merge(train[train['日期']>=min_date].groupby('门店ID')['请求ID'].count().fillna(0).rename('recent_expose'),how='left',on = '门店ID')\n",
    "shop_id = shop_id.merge(train[(train['日期']>=min_date)&(train['label']==1)].groupby('门店ID')['请求ID'].count().fillna(0).rename('recent_click'),how='left',on = '门店ID')\n",
    "\n"
   ]
  },
  {
   "cell_type": "code",
   "execution_count": 7,
   "id": "54d5d714-43ee-458f-bbc0-191a0d268222",
   "metadata": {},
   "outputs": [],
   "source": [
    "shop_id[['门店纬度', '门店经度']] = poi[['门店纬度', '门店经度']]"
   ]
  },
  {
   "cell_type": "code",
   "execution_count": 32,
   "id": "6b5d48ab-55f3-4433-b6a8-ae70c4241c22",
   "metadata": {},
   "outputs": [
    {
     "data": {
      "image/png": "[encoded data removed]",
      "text/plain": [
       "<Figure size 432x288 with 1 Axes>"
      ]
     },
     "metadata": {
      "needs_background": "light"
     },
     "output_type": "display_data"
    }
   ],
   "source": [
    "import matplotlib.pyplot as plt\n",
    "plt.hist(shop_id['all_expose'],range=(0,500),bins=50,color='gold',edgecolor='black')\n",
    "plt.show()"
   ]
  },
  {
   "cell_type": "code",
   "execution_count": 34,
   "id": "84433348-d16b-4609-b1ac-21ed823dfcde",
   "metadata": {},
   "outputs": [
    {
     "data": {
      "image/png": "[encoded data removed]",
      "text/plain": [
       "<Figure size 432x288 with 1 Axes>"
      ]
     },
     "metadata": {
      "needs_background": "light"
     },
     "output_type": "display_data"
    }
   ],
   "source": [
    "plt.hist(shop_id['fir_category_price_diff'],range=(-7500,10000),bins=50,color='gold',edgecolor='black')\n",
    "plt.show()"
   ]
  },
  {
   "cell_type": "code",
   "execution_count": 35,
   "id": "e3d93604-c808-4e96-96e7-68ad9232e222",
   "metadata": {},
   "outputs": [
    {
     "data": {
      "image/png": "[encoded data removed]",
      "text/plain": [
       "<Figure size 432x288 with 1 Axes>"
      ]
     },
     "metadata": {
      "needs_background": "light"
     },
     "output_type": "display_data"
    }
   ],
   "source": [
    "plt.hist(shop_id['fir_category_score_diff'],range=(-1500,500),bins=50,color='gold',edgecolor='black')\n",
    "plt.show()"
   ]
  },
  {
   "cell_type": "code",
   "execution_count": 36,
   "id": "a53ccf35-12b9-4a6d-9bc2-225b03ef2583",
   "metadata": {},
   "outputs": [
    {
     "data": {
      "image/png": "[encoded data removed]",
      "text/plain": [
       "<Figure size 432x288 with 1 Axes>"
      ]
     },
     "metadata": {
      "needs_background": "light"
     },
     "output_type": "display_data"
    }
   ],
   "source": [
    "plt.hist(shop_id['mall_price_diff'],range=(-7500,10000),bins=50,color='gold',edgecolor='black')\n",
    "plt.show()"
   ]
  },
  {
   "cell_type": "code",
   "execution_count": 37,
   "id": "756d52c0-bb0f-4a4a-aa1d-322203c67f8f",
   "metadata": {},
   "outputs": [
    {
     "data": {
      "image/png": "[encoded data removed]",
      "text/plain": [
       "<Figure size 432x288 with 1 Axes>"
      ]
     },
     "metadata": {
      "needs_background": "light"
     },
     "output_type": "display_data"
    }
   ],
   "source": [
    "plt.hist(shop_id['mall_score_diff'],range=(-1500,500),bins=50,color='gold',edgecolor='black')\n",
    "plt.show()"
   ]
  },
  {
   "cell_type": "code",
   "execution_count": 33,
   "id": "bcd708f9-b502-49dc-9bef-5ab75de0bbf4",
   "metadata": {},
   "outputs": [
    {
     "data": {
      "image/png": "[encoded data removed]",
      "text/plain": [
       "<Figure size 432x288 with 1 Axes>"
      ]
     },
     "metadata": {
      "needs_background": "light"
     },
     "output_type": "display_data"
    }
   ],
   "source": [
    "plt.hist(shop_id['all_click'],range=(0,100),bins=50,color='gold',edgecolor='black')\n",
    "plt.show()"
   ]
  },
  {
   "cell_type": "code",
   "execution_count": 31,
   "id": "ad889c39-6939-4dbb-bdba-bb45b0848339",
   "metadata": {},
   "outputs": [],
   "source": [
    "shop_id.to_csv('poi_manual.csv')"
   ]
  },
  {
   "cell_type": "code",
   "execution_count": 32,
   "id": "c83440c7-5958-44b2-a2f1-3dcec071a637",
   "metadata": {},
   "outputs": [
    {
     "data": {
      "text/plain": [
       "Index(['门店ID', '门店一级类目', '门店二级类目', '门店三级类目', '门店商圈', '平均分数', '团单价格', '团单原始价格',\n",
       "       'fir_category_price_diff', 'sec_category_price_diff',\n",
       "       'thi_category_price_diff', 'fir_category_score_diff',\n",
       "       'sec_category_score_diff', 'thi_category_score_diff', 'mall_price_diff',\n",
       "       'mall_score_diff', 'all_expose', 'all_click', 'average_position',\n",
       "       'recent_expose', 'recent_click', '门店纬度', '门店经度'],\n",
       "      dtype='object')"
      ]
     },
     "execution_count": 32,
     "metadata": {},
     "output_type": "execute_result"
    }
   ],
   "source": [
    "shop_id.columns"
   ]
  },
  {
   "cell_type": "code",
   "execution_count": null,
   "id": "4eac1017-c5da-4ec6-9a93-eb511111ca1f",
   "metadata": {},
   "outputs": [],
   "source": []
  }
 ],
 "metadata": {
  "kernelspec": {
   "display_name": "Python 3",
   "language": "python",
   "name": "python3"
  },
  "language_info": {
   "codemirror_mode": {
    "name": "ipython",
    "version": 3
   },
   "file_extension": ".py",
   "mimetype": "text/x-python",
   "name": "python",
   "nbconvert_exporter": "python",
   "pygments_lexer": "ipython3",
   "version": "3.6.13"
  }
 },
 "nbformat": 4,
 "nbformat_minor": 5
}
