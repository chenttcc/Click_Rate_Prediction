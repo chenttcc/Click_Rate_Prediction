{
 "cells": [
  {
   "cell_type": "code",
   "execution_count": 1,
   "id": "d8ffaad1-b3d4-426f-a283-76a745e8483a",
   "metadata": {},
   "outputs": [],
   "source": [
    "import pandas as pd\n",
    "import numpy as np\n",
    "data_path = '/opt/data'\n",
    "train_user_info = pd.read_csv(data_path+'/tc/train_user_info.csv')\n",
    "test_user_info = pd.read_csv(data_path+'/tc/test_user_info.csv')\n",
    "train_shop_info = pd.read_csv(data_path+'/tc/train_shop_info.csv')\n",
    "test_shop_info = pd.read_csv(data_path+'/tc/test_shop_info.csv')\n",
    "train_context= pd.read_csv(data_path+'/tc/train_context.csv')\n",
    "test_context = pd.read_csv(data_path+'/tc/test_context.csv')\n",
    "train_context['cos'] = np.load(data_path+'/tc/cos_x.npy')\n",
    "test_context['cos'] = np.load(data_path+'/tc/cos_test_x.npy')"
   ]
  },
  {
   "cell_type": "code",
   "execution_count": 2,
   "id": "2fd1dbea-30eb-47c0-afa9-ad55a761fd15",
   "metadata": {},
   "outputs": [],
   "source": [
    "Y = pd.read_csv(data_path+'/tc/train_data.csv')['label']"
   ]
  },
  {
   "cell_type": "code",
   "execution_count": 3,
   "id": "5f1df638-338a-4156-91a1-e0136088a9fd",
   "metadata": {},
   "outputs": [],
   "source": [
    "train_data = pd.concat([train_context,Y],axis = 1)"
   ]
  },
  {
   "cell_type": "code",
   "execution_count": 4,
   "id": "669b2c28-731f-491f-8db0-53ce1a7b68a0",
   "metadata": {},
   "outputs": [],
   "source": [
    "train_data[['用户ID','门店ID','请求类目ID']] = train_data[['用户ID','门店ID','请求类目ID']].fillna(0).astype('int')\n",
    "test_context[['用户ID','门店ID','请求类目ID']] = test_context[['用户ID','门店ID','请求类目ID']].fillna(0).astype('int')"
   ]
  },
  {
   "cell_type": "code",
   "execution_count": 5,
   "id": "bd323448-cd5a-4b0b-b352-b612bec7b902",
   "metadata": {},
   "outputs": [],
   "source": [
    "from sklearn.decomposition import PCA\n",
    "import numpy as np\n",
    "user_fir = ['用户ID', '性别', '年龄', '职业']\n",
    "user_se = ['cnt_total_click', 'cnt_recent_click',\n",
    "       'flag_total_click', 'flag_recent_click', 'cnt_total_click_days',\n",
    "       'cnt_recent_click_days', 'cnt_total_click_poi', 'cnt_recent_click_poi']\n",
    "# Try to decrease the feature nums for both users and merchants\n",
    "user_pca = PCA(n_components=1, whiten = True)\n",
    "\n",
    "train_user_part = pd.concat([train_user_info[user_fir].astype('int'),\n",
    "                            pd.DataFrame(user_pca.fit_transform(train_user_info[user_se]),columns=['user_pca1'])],\n",
    "                            axis = 1)\n",
    "test_user_part = pd.concat([test_user_info[user_fir].astype('int'),\n",
    "                            pd.DataFrame(user_pca.transform(test_user_info[user_se]),columns=['user_pca1'])],\n",
    "                            axis = 1)"
   ]
  },
  {
   "cell_type": "code",
   "execution_count": 6,
   "id": "68b3e247-e7bd-4531-a5b9-cde67592d8a2",
   "metadata": {},
   "outputs": [],
   "source": [
    "shop_fir = ['门店ID', '门店一级类目', '门店二级类目', '门店三级类目', '门店商圈', '平均分数','price']\n",
    "shop_se = ['all_expose',\n",
    "       'all_click', 'fir_category_price_diff', 'sec_category_price_diff',\n",
    "       'thi_category_price_diff', 'mall_price_diff', 'fir_category_score_diff',\n",
    "       'sec_category_score_diff', 'thi_category_score_diff', 'mall_score_diff',\n",
    "       'recent_expose', 'recent_click', ]\n",
    "shop_pca = PCA(n_components=1,whiten = True)\n",
    "\n",
    "train_shop_part = pd.concat([train_shop_info[shop_fir].fillna(0).astype('int'),\n",
    "                            pd.DataFrame(shop_pca.fit_transform(train_shop_info[shop_se]),columns=['shop_pca1'])],\n",
    "                            axis = 1)\n",
    "test_shop_part = pd.concat([test_shop_info[shop_fir].fillna(0).astype('int'),\n",
    "                            pd.DataFrame(shop_pca.transform(test_shop_info[shop_se]),columns=['shop_pca1'])],\n",
    "                            axis = 1)"
   ]
  },
  {
   "cell_type": "code",
   "execution_count": 7,
   "id": "bd0ad2b8-1c89-4fdf-a1a5-95f46e0dd399",
   "metadata": {},
   "outputs": [],
   "source": [
    "import datetime\n",
    "# train_target = train_data.groupby('用户ID').apply(lambda t: t[(t[\"日期\"] == t[\"日期\"].max())|(t[\"日期\"] == t[\"日期\"].max()-datetime.timedelta(1))])\n",
    "def in_train(x):\n",
    "    if x in ['2022-08-23',\n",
    " '2022-08-24',\n",
    " '2022-08-25',\n",
    " '2022-08-26',\n",
    " '2022-08-27',\n",
    " '2022-08-28',\n",
    " '2022-08-29']:\n",
    "        return True\n",
    "    else:\n",
    "        return False\n",
    "# divide into trainset and testset\n",
    "train_target = train_data[train_data['日期'].apply(in_train)]"
   ]
  },
  {
   "cell_type": "code",
   "execution_count": 8,
   "id": "a10fa045-73b8-4df5-9c06-ffa9f5bd2ced",
   "metadata": {
    "tags": []
   },
   "outputs": [],
   "source": [
    "# train_target_index = train_target.index.levels[1]\n",
    "# trainset with positive labels\n",
    "train_target_index = train_target.index\n",
    "pos_his = train_data[(~train_data.index.isin(train_target_index))&train_data['label']==1]\n",
    "pos_his = pos_his.merge(train_shop_part,how='left',on ='门店ID')\n",
    "train_group = pos_his.sort_values(by=[\"日期\"]).groupby(\"用户ID\")\n",
    "\n",
    "train_history_data = pd.DataFrame(\n",
    "    data={\n",
    "        \"user_id\": list(train_group.groups.keys()),\n",
    "        \"shop_ids\": list(train_group['门店ID'].apply(list)),\n",
    "        \"request_cate_ids\": list(train_group['请求类目ID'].apply(list)),\n",
    "        \"fir_ids\": list(train_group['门店一级类目'].apply(list)),\n",
    "        \"sec_ids\": list(train_group['门店二级类目'].apply(list)),\n",
    "        \"thr_ids\": list(train_group['门店三级类目'].apply(list)),\n",
    "        \"mall_ids\": list(train_group['门店商圈'].apply(list)),\n",
    "        \"his_score\": list(train_group['平均分数'].apply(list)),\n",
    "        \"his_price\": list(train_group['price'].apply(list)),\n",
    "        \"his_shop_pca\": list(train_group['shop_pca1'].apply(list)),\n",
    "        # \"date\": list(train_group['日期'].apply(list)),\n",
    "    }\n",
    ")\n"
   ]
  },
  {
   "cell_type": "code",
   "execution_count": 9,
   "id": "f2bf8a8b-588b-4ed7-8d57-567d843d8874",
   "metadata": {},
   "outputs": [],
   "source": [
    "# using behavior_len to represent the valid id length for merchants\n",
    "train_history_data['behavior_len'] = train_history_data[\"shop_ids\"].apply(lambda x : len(x))"
   ]
  },
  {
   "cell_type": "code",
   "execution_count": 10,
   "id": "cd6c6706-2846-493a-a680-58137396d4b3",
   "metadata": {},
   "outputs": [],
   "source": [
    "# trainset with negative labels\n",
    "neg_his = train_data[(~train_data.index.isin(train_target_index))&train_data['label']==0]\n",
    "neg_his = neg_his.merge(train_shop_part,how='left',on ='门店ID')\n",
    "train_neg_group = neg_his.sort_values(by=[\"日期\"]).groupby(\"用户ID\")\n",
    "\n",
    "train_neg_history_data = pd.DataFrame(\n",
    "    data={\n",
    "        \"user_id\": list(train_neg_group.groups.keys()),\n",
    "        \"neg_shop_ids\": list(train_neg_group['门店ID'].apply(list)),\n",
    "        \"neg_request_cate_ids\": list(train_neg_group['请求类目ID'].apply(list)),\n",
    "        \"neg_fir_ids\": list(train_neg_group['门店一级类目'].apply(list)),\n",
    "        \"neg_sec_ids\": list(train_neg_group['门店二级类目'].apply(list)),\n",
    "        \"neg_thr_ids\": list(train_neg_group['门店三级类目'].apply(list)),\n",
    "        \"neg_mall_ids\": list(train_neg_group['门店商圈'].apply(list)),\n",
    "        \"neg_his_score\": list(train_neg_group['平均分数'].apply(list)),\n",
    "        \"neg_his_price\": list(train_neg_group['price'].apply(list)),\n",
    "        \"neg_his_shop_pca\": list(train_neg_group['shop_pca1'].apply(list)),\n",
    "        # \"date\": list(train_group['日期'].apply(list)),\n",
    "    }\n",
    ")\n",
    "train_neg_history_data['neg_behavior_len'] = train_neg_history_data['neg_shop_ids'].apply(lambda x : len(x))"
   ]
  },
  {
   "cell_type": "code",
   "execution_count": 11,
   "id": "e8cd8766-ac51-4e6d-9b96-7664a4c06d15",
   "metadata": {},
   "outputs": [],
   "source": [
    "\n",
    "length = 10\n",
    "def complement(ll):\n",
    "    if len(ll) >=length:\n",
    "        return ll[-1*length:]\n",
    "    else:\n",
    "        return ll+[0,]*(length-len(ll))\n",
    "# if the original length is not enough, complementing using 0\n",
    "train_history_data[['shop_ids', 'request_cate_ids', 'fir_ids', 'sec_ids',\n",
    "       'thr_ids', 'mall_ids', 'his_score', 'his_price', 'his_shop_pca']] = train_history_data[['shop_ids', 'request_cate_ids', 'fir_ids', 'sec_ids',\n",
    "       'thr_ids', 'mall_ids', 'his_score', 'his_price', 'his_shop_pca']].applymap(complement)\n",
    "train_history_data['behavior_len'] = train_history_data[\"behavior_len\"].apply(lambda x : length if x>length else x)\n",
    "train_neg_history_data[['neg_shop_ids', 'neg_request_cate_ids', 'neg_fir_ids', 'neg_sec_ids',\n",
    "       'neg_thr_ids', 'neg_mall_ids', 'neg_his_score', 'neg_his_price', 'neg_his_shop_pca']] = train_neg_history_data[['neg_shop_ids', 'neg_request_cate_ids', 'neg_fir_ids', 'neg_sec_ids',\n",
    "       'neg_thr_ids', 'neg_mall_ids', 'neg_his_score', 'neg_his_price', 'neg_his_shop_pca']].applymap(complement)\n",
    "train_neg_history_data['neg_behavior_len'] = train_neg_history_data[\"neg_behavior_len\"].apply(lambda x : length if x>length else x)"
   ]
  },
  {
   "cell_type": "code",
   "execution_count": 12,
   "id": "dd160989-57bb-4b24-9f95-225da049eb2a",
   "metadata": {},
   "outputs": [],
   "source": [
    "# train_all_data = train_target.drop('用户ID',axis=1).reset_index().drop('level_1',axis=1).merge(train_user_part,how='left',on='用户ID')\n",
    "# put all the train features together\n",
    "train_all_data = train_target.reset_index().merge(train_user_part,how='left',on='用户ID')\n",
    "train_all_data = train_all_data.merge(train_shop_part,how='left',on='门店ID')\n",
    "train_all_data = train_all_data.merge(train_history_data,how='left',left_on='用户ID',right_on = 'user_id')\n",
    "train_all_data = train_all_data.drop('user_id',axis=1)\n",
    "train_all_data = train_all_data.merge(train_neg_history_data,how='left',left_on='用户ID',right_on = 'user_id')"
   ]
  },
  {
   "cell_type": "code",
   "execution_count": 13,
   "id": "ac7fa45e-20ba-4bb4-9bd7-b9a2bbb383b4",
   "metadata": {},
   "outputs": [],
   "source": [
    "def fill(x):\n",
    "    if x is np.nan:\n",
    "        return [0,]*length\n",
    "    else:\n",
    "        return x\n",
    "train_all_data[['shop_ids', 'request_cate_ids',\n",
    "       'fir_ids', 'sec_ids', 'thr_ids', 'mall_ids', 'his_score', 'his_price',\n",
    "       'his_shop_pca','neg_shop_ids', 'neg_request_cate_ids', 'neg_fir_ids', 'neg_sec_ids',\n",
    "       'neg_thr_ids', 'neg_mall_ids', 'neg_his_score', 'neg_his_price', 'neg_his_shop_pca']] = train_all_data[['shop_ids', 'request_cate_ids',\n",
    "       'fir_ids', 'sec_ids', 'thr_ids', 'mall_ids', 'his_score', 'his_price',\n",
    "       'his_shop_pca','neg_shop_ids', 'neg_request_cate_ids', 'neg_fir_ids', 'neg_sec_ids',\n",
    "       'neg_thr_ids', 'neg_mall_ids', 'neg_his_score', 'neg_his_price', 'neg_his_shop_pca']].applymap(fill)\n",
    "train_all_data[['behavior_len','neg_behavior_len']] = train_all_data[['behavior_len','neg_behavior_len']].fillna(0)\n",
    "train_all_data['user_id'] = train_all_data['user_id'].fillna(0)"
   ]
  },
  {
   "cell_type": "code",
   "execution_count": 23,
   "id": "d771ad53-8b0e-4ca9-91f7-a471bac1baa4",
   "metadata": {},
   "outputs": [
    {
     "data": {
      "text/plain": [
       "Text(0.5, 1.0, 'sample distribution')"
      ]
     },
     "execution_count": 23,
     "metadata": {},
     "output_type": "execute_result"
    },
    {
     "data": {
      "image/png": "[encoded data removed]",
      "text/plain": [
       "<Figure size 864x432 with 2 Axes>"
      ]
     },
     "metadata": {
      "needs_background": "light"
     },
     "output_type": "display_data"
    }
   ],
   "source": [
    "import matplotlib.pyplot as plt\n",
    "fig, axes = plt.subplots(1,2,figsize=(12,6))\n",
    "train_all_data['label'].value_counts().plot.pie(explode=[0,0.1],autopct='%1.1f%%',ax=axes[0])\n",
    "axes[0].set_title('sample distribution')"
   ]
  },
  {
   "cell_type": "code",
   "execution_count": 14,
   "id": "c0f0d4f8-715f-4692-aa82-f122ef0fb087",
   "metadata": {},
   "outputs": [],
   "source": [
    "# Because of imbalance of the sample, increase the negative sample proportion\n",
    "t_index_t = train_all_data[train_all_data['label'] == 1].index\n",
    "t_index_n = train_all_data[train_all_data['label'] == 0].sample(3*len(t_index_t)).index\n",
    "t_index = list(t_index_t)+list(t_index_n)\n",
    "resample = train_all_data.iloc[t_index,:]"
   ]
  },
  {
   "cell_type": "code",
   "execution_count": 15,
   "id": "04b88703-5e7a-4493-b9fa-814f7f8b3695",
   "metadata": {},
   "outputs": [
    {
     "data": {
      "text/plain": [
       "5406716    0\n",
       "4985946    1\n",
       "7960712    1\n",
       "4658584    1\n",
       "7168959    0\n",
       "          ..\n",
       "6451636    0\n",
       "841912     1\n",
       "6204947    0\n",
       "2733411    0\n",
       "2457652    1\n",
       "Name: label, Length: 3002840, dtype: int64"
      ]
     },
     "execution_count": 15,
     "metadata": {},
     "output_type": "execute_result"
    }
   ],
   "source": [
    "from sklearn.utils import shuffle\n",
    "resample = shuffle(resample)\n",
    "resample['label']"
   ]
  },
  {
   "cell_type": "code",
   "execution_count": 20,
   "id": "416d5116-6420-4832-929b-37ee2cc945c9",
   "metadata": {},
   "outputs": [],
   "source": [
    "import torch\n",
    "import torch.nn as nn\n",
    "import torch.nn.functional as F\n",
    "import torch.cuda.amp as amp\n",
    "\n",
    "# using focalloss to stress the negative sample, used for imblance problem\n",
    "class FocalLoss(nn.Module):\n",
    "\n",
    "    def __init__(self,\n",
    "                 alpha=0.9,\n",
    "                 gamma=2,\n",
    "                 reduction='mean',):\n",
    "        super(FocalLoss, self).__init__()\n",
    "        self.alpha = alpha\n",
    "        self.gamma = gamma\n",
    "        self.reduction = reduction\n",
    "        self.crit = nn.BCEWithLogitsLoss(reduction='none')\n",
    "\n",
    "    def forward(self, logits, label, reduction = 'mean'):\n",
    "        self.reduction = reduction\n",
    "        '''\n",
    "        Usage is same as nn.BCEWithLogits:\n",
    "            >>> criteria = FocalLossV1()\n",
    "            >>> logits = torch.randn(8, 19, 384, 384)\n",
    "            >>> lbs = torch.randint(0, 2, (8, 19, 384, 384)).float()\n",
    "            >>> loss = criteria(logits, lbs)\n",
    "        '''\n",
    "        probs = torch.sigmoid(logits)\n",
    "        coeff = torch.abs(label - probs).pow(self.gamma).neg()\n",
    "        log_probs = torch.where(logits >= 0,\n",
    "                F.softplus(logits, -1, 50),\n",
    "                logits - F.softplus(logits, 1, 50))\n",
    "        log_1_probs = torch.where(logits >= 0,\n",
    "                -logits + F.softplus(logits, -1, 50),\n",
    "                -F.softplus(logits, 1, 50))\n",
    "        loss = label * self.alpha * log_probs + (1. - label) * (1. - self.alpha) * log_1_probs\n",
    "        loss = loss * coeff\n",
    "\n",
    "        if self.reduction == 'mean':\n",
    "            loss = loss.mean()\n",
    "        if self.reduction == 'sum':\n",
    "            loss = loss.sum()\n",
    "        return loss\n",
    "    \n",
    "def get_image_count_frequency(version=\"v0_5\"):\n",
    "    if version == \"v0_5\":\n",
    "        from mmdet.utils.lvis_v0_5_categories import get_image_count_frequency\n",
    "        return get_image_count_frequency()\n",
    "    elif version == \"v1\":\n",
    "        from mmdet.utils.lvis_v1_0_categories import get_image_count_frequency\n",
    "        return get_image_count_frequency()\n",
    "    elif version == \"openimage\":\n",
    "        from mmdet.utils.openimage_categories import get_instance_count\n",
    "        return get_instance_count()\n",
    "    else:\n",
    "        raise KeyError(f\"version {version} is not supported\")\n",
    "\n",
    "class EQL(nn.Module):\n",
    "    def __init__(self,\n",
    "                 use_sigmoid=True,\n",
    "                 reduction='mean',\n",
    "                 class_weight=None,\n",
    "                 loss_weight=1.0,\n",
    "                 lambda_=0.00177,\n",
    "                 version=\"v0_5\"):\n",
    "        super(EQL, self).__init__()\n",
    "        self.use_sigmoid = use_sigmoid\n",
    "        self.reduction = reduction\n",
    "        self.loss_weight = loss_weight\n",
    "        self.class_weight = class_weight\n",
    "        self.lambda_ = lambda_\n",
    "        self.version = version\n",
    "        self.freq_info = torch.FloatTensor(get_image_count_frequency(version))\n",
    "\n",
    "        num_class_included = torch.sum(self.freq_info < self.lambda_)\n",
    "        print(f\"set up EQL (version {version}), {num_class_included} classes included.\")\n",
    "\n",
    "    def forward(self,\n",
    "                cls_score,\n",
    "                label,\n",
    "                weight=None,\n",
    "                avg_factor=None,\n",
    "                reduction_override=None,\n",
    "                **kwargs):\n",
    "        self.n_i, self.n_c = cls_score.size()\n",
    "\n",
    "        self.gt_classes = label\n",
    "        self.pred_class_logits = cls_score\n",
    "\n",
    "        def expand_label(pred, gt_classes):\n",
    "            target = pred.new_zeros(self.n_i, self.n_c + 1)\n",
    "            target[torch.arange(self.n_i), gt_classes] = 1\n",
    "            return target[:, :self.n_c]\n",
    "\n",
    "        target = expand_label(cls_score, label)\n",
    "\n",
    "        eql_w = 1 - self.exclude_func() * self.threshold_func() * (1 - target)\n",
    "\n",
    "        cls_loss = F.binary_cross_entropy_with_logits(cls_score, target,\n",
    "                                                      reduction='none')\n",
    "\n",
    "        cls_loss = torch.sum(cls_loss * eql_w) / self.n_i\n",
    "\n",
    "        return self.loss_weight * cls_loss\n",
    "\n",
    "    def exclude_func(self):\n",
    "        # instance-level weight\n",
    "        bg_ind = self.n_c\n",
    "        weight = (self.gt_classes != bg_ind).float()\n",
    "        weight = weight.view(self.n_i, 1).expand(self.n_i, self.n_c)\n",
    "        return weight\n",
    "\n",
    "    def threshold_func(self):\n",
    "        # class-level weight\n",
    "        weight = self.pred_class_logits.new_zeros(self.n_c)\n",
    "        weight[self.freq_info < self.lambda_] = 1\n",
    "        weight = weight.view(1, self.n_c).expand(self.n_i, self.n_c)\n",
    "        return weight"
   ]
  },
  {
   "cell_type": "code",
   "execution_count": 17,
   "id": "d72f08d5-9356-4268-b492-c329e7ee994d",
   "metadata": {},
   "outputs": [
    {
     "name": "stdout",
     "output_type": "stream",
     "text": [
      "cuda ready...\n"
     ]
    },
    {
     "name": "stderr",
     "output_type": "stream",
     "text": [
      "0it [00:00, ?it/s]"
     ]
    },
    {
     "name": "stdout",
     "output_type": "stream",
     "text": [
      "cuda:0\n",
      "Train on 2402272 samples, validate on 600568 samples, 481 steps per epoch\n"
     ]
    },
    {
     "name": "stderr",
     "output_type": "stream",
     "text": [
      "481it [00:42, 11.43it/s]\n",
      "1it [00:00,  5.32it/s]"
     ]
    },
    {
     "name": "stdout",
     "output_type": "stream",
     "text": [
      "Epoch 1/20\n",
      "46s - loss:  0.5714 - binary_crossentropy:  0.5712 - auc:  0.5543 - val_binary_crossentropy:  0.5430 - val_auc:  0.6309\n"
     ]
    },
    {
     "name": "stderr",
     "output_type": "stream",
     "text": [
      "481it [00:41, 11.62it/s]\n",
      "1it [00:00,  5.36it/s]"
     ]
    },
    {
     "name": "stdout",
     "output_type": "stream",
     "text": [
      "Epoch 2/20\n",
      "47s - loss:  0.5232 - binary_crossentropy:  0.5231 - auc:  0.6893 - val_binary_crossentropy:  0.5329 - val_auc:  0.6621\n"
     ]
    },
    {
     "name": "stderr",
     "output_type": "stream",
     "text": [
      "481it [00:41, 11.62it/s]\n",
      "1it [00:00,  5.12it/s]"
     ]
    },
    {
     "name": "stdout",
     "output_type": "stream",
     "text": [
      "Epoch 3/20\n",
      "47s - loss:  0.4964 - binary_crossentropy:  0.4964 - auc:  0.7385 - val_binary_crossentropy:  0.5364 - val_auc:  0.6625\n"
     ]
    },
    {
     "name": "stderr",
     "output_type": "stream",
     "text": [
      "481it [00:41, 11.66it/s]\n",
      "1it [00:00,  5.39it/s]"
     ]
    },
    {
     "name": "stdout",
     "output_type": "stream",
     "text": [
      "Epoch 4/20\n",
      "47s - loss:  0.4828 - binary_crossentropy:  0.4827 - auc:  0.7566 - val_binary_crossentropy:  0.5406 - val_auc:  0.6614\n"
     ]
    },
    {
     "name": "stderr",
     "output_type": "stream",
     "text": [
      "481it [00:40, 11.75it/s]\n",
      "1it [00:00,  5.21it/s]"
     ]
    },
    {
     "name": "stdout",
     "output_type": "stream",
     "text": [
      "Epoch 5/20\n",
      "46s - loss:  0.4752 - binary_crossentropy:  0.4752 - auc:  0.7655 - val_binary_crossentropy:  0.5532 - val_auc:  0.6607\n"
     ]
    },
    {
     "name": "stderr",
     "output_type": "stream",
     "text": [
      "481it [00:40, 11.75it/s]\n",
      "0it [00:00, ?it/s]"
     ]
    },
    {
     "name": "stdout",
     "output_type": "stream",
     "text": [
      "Epoch 6/20\n",
      "45s - loss:  0.4699 - binary_crossentropy:  0.4698 - auc:  0.7713 - val_binary_crossentropy:  0.5534 - val_auc:  0.6610\n"
     ]
    },
    {
     "name": "stderr",
     "output_type": "stream",
     "text": [
      "481it [00:42, 11.28it/s]\n",
      "1it [00:00,  5.46it/s]"
     ]
    },
    {
     "name": "stdout",
     "output_type": "stream",
     "text": [
      "Epoch 7/20\n",
      "47s - loss:  0.4662 - binary_crossentropy:  0.4661 - auc:  0.7754 - val_binary_crossentropy:  0.5673 - val_auc:  0.6608\n"
     ]
    },
    {
     "name": "stderr",
     "output_type": "stream",
     "text": [
      "481it [00:41, 11.65it/s]\n",
      "0it [00:00, ?it/s]"
     ]
    },
    {
     "name": "stdout",
     "output_type": "stream",
     "text": [
      "Epoch 8/20\n",
      "46s - loss:  0.4628 - binary_crossentropy:  0.4627 - auc:  0.7790 - val_binary_crossentropy:  0.5647 - val_auc:  0.6577\n"
     ]
    },
    {
     "name": "stderr",
     "output_type": "stream",
     "text": [
      "481it [00:41, 11.67it/s]\n",
      "1it [00:00,  5.22it/s]"
     ]
    },
    {
     "name": "stdout",
     "output_type": "stream",
     "text": [
      "Epoch 9/20\n",
      "46s - loss:  0.4591 - binary_crossentropy:  0.4590 - auc:  0.7830 - val_binary_crossentropy:  0.5687 - val_auc:  0.6581\n"
     ]
    },
    {
     "name": "stderr",
     "output_type": "stream",
     "text": [
      "481it [00:41, 11.73it/s]\n",
      "1it [00:00,  5.30it/s]"
     ]
    },
    {
     "name": "stdout",
     "output_type": "stream",
     "text": [
      "Epoch 10/20\n",
      "46s - loss:  0.4558 - binary_crossentropy:  0.4558 - auc:  0.7873 - val_binary_crossentropy:  0.5824 - val_auc:  0.6574\n"
     ]
    },
    {
     "name": "stderr",
     "output_type": "stream",
     "text": [
      "481it [00:41, 11.71it/s]\n",
      "0it [00:00, ?it/s]"
     ]
    },
    {
     "name": "stdout",
     "output_type": "stream",
     "text": [
      "Epoch 11/20\n",
      "46s - loss:  0.4513 - binary_crossentropy:  0.4513 - auc:  0.7923 - val_binary_crossentropy:  0.5864 - val_auc:  0.6575\n"
     ]
    },
    {
     "name": "stderr",
     "output_type": "stream",
     "text": [
      "481it [00:41, 11.70it/s]\n",
      "0it [00:00, ?it/s]"
     ]
    },
    {
     "name": "stdout",
     "output_type": "stream",
     "text": [
      "Epoch 12/20\n",
      "45s - loss:  0.4476 - binary_crossentropy:  0.4476 - auc:  0.7973 - val_binary_crossentropy:  0.5796 - val_auc:  0.6559\n"
     ]
    },
    {
     "name": "stderr",
     "output_type": "stream",
     "text": [
      "481it [00:42, 11.40it/s]\n",
      "0it [00:00, ?it/s]"
     ]
    },
    {
     "name": "stdout",
     "output_type": "stream",
     "text": [
      "Epoch 13/20\n",
      "46s - loss:  0.4426 - binary_crossentropy:  0.4425 - auc:  0.8028 - val_binary_crossentropy:  0.5897 - val_auc:  0.6527\n"
     ]
    },
    {
     "name": "stderr",
     "output_type": "stream",
     "text": [
      "481it [00:41, 11.71it/s]\n",
      "0it [00:00, ?it/s]"
     ]
    },
    {
     "name": "stdout",
     "output_type": "stream",
     "text": [
      "Epoch 14/20\n",
      "46s - loss:  0.4386 - binary_crossentropy:  0.4386 - auc:  0.8078 - val_binary_crossentropy:  0.5960 - val_auc:  0.6527\n"
     ]
    },
    {
     "name": "stderr",
     "output_type": "stream",
     "text": [
      "481it [00:41, 11.56it/s]\n",
      "1it [00:00,  5.16it/s]"
     ]
    },
    {
     "name": "stdout",
     "output_type": "stream",
     "text": [
      "Epoch 15/20\n",
      "47s - loss:  0.4340 - binary_crossentropy:  0.4339 - auc:  0.8130 - val_binary_crossentropy:  0.6011 - val_auc:  0.6516\n"
     ]
    },
    {
     "name": "stderr",
     "output_type": "stream",
     "text": [
      "481it [00:41, 11.50it/s]\n",
      "1it [00:00,  5.35it/s]"
     ]
    },
    {
     "name": "stdout",
     "output_type": "stream",
     "text": [
      "Epoch 16/20\n",
      "47s - loss:  0.4299 - binary_crossentropy:  0.4298 - auc:  0.8177 - val_binary_crossentropy:  0.6129 - val_auc:  0.6502\n"
     ]
    },
    {
     "name": "stderr",
     "output_type": "stream",
     "text": [
      "481it [00:41, 11.64it/s]\n",
      "0it [00:00, ?it/s]"
     ]
    },
    {
     "name": "stdout",
     "output_type": "stream",
     "text": [
      "Epoch 17/20\n",
      "45s - loss:  0.4258 - binary_crossentropy:  0.4257 - auc:  0.8222 - val_binary_crossentropy:  0.6177 - val_auc:  0.6497\n"
     ]
    },
    {
     "name": "stderr",
     "output_type": "stream",
     "text": [
      "481it [00:42, 11.24it/s]\n",
      "1it [00:00,  5.04it/s]"
     ]
    },
    {
     "name": "stdout",
     "output_type": "stream",
     "text": [
      "Epoch 18/20\n",
      "47s - loss:  0.4217 - binary_crossentropy:  0.4217 - auc:  0.8263 - val_binary_crossentropy:  0.6277 - val_auc:  0.6474\n"
     ]
    },
    {
     "name": "stderr",
     "output_type": "stream",
     "text": [
      "481it [00:42, 11.29it/s]\n",
      "1it [00:00,  5.03it/s]"
     ]
    },
    {
     "name": "stdout",
     "output_type": "stream",
     "text": [
      "Epoch 19/20\n",
      "46s - loss:  0.4182 - binary_crossentropy:  0.4182 - auc:  0.8301 - val_binary_crossentropy:  0.6441 - val_auc:  0.6464\n"
     ]
    },
    {
     "name": "stderr",
     "output_type": "stream",
     "text": [
      "481it [00:41, 11.57it/s]\n"
     ]
    },
    {
     "name": "stdout",
     "output_type": "stream",
     "text": [
      "Epoch 20/20\n",
      "47s - loss:  0.4152 - binary_crossentropy:  0.4152 - auc:  0.8333 - val_binary_crossentropy:  0.6464 - val_auc:  0.6446\n"
     ]
    }
   ],
   "source": [
    "import numpy as np\n",
    "import torch\n",
    "\n",
    "from deepctr_torch.inputs import SparseFeat, DenseFeat, VarLenSparseFeat, get_feature_names\n",
    "from deepctr_torch.models import DIEN,DIN\n",
    "# from ainputs import VarLenDenseFeat\n",
    "\n",
    "length = 10\n",
    "# SparseFeat used for nominal feature, DenseFeat used for numerical feature\n",
    "def get_xy_fd(train_all_data,use_neg=False, hash_flag=False):\n",
    "    feature_columns = [SparseFeat('user', max(test_user_part['用户ID'].max(),train_user_part['用户ID'].max())+1, embedding_dim=8, use_hash=hash_flag),\n",
    "                       SparseFeat('gender', 4, embedding_dim=4, use_hash=hash_flag),\n",
    "                       SparseFeat('occupation', train_user_part['职业'].max()+1, embedding_dim=4, use_hash=hash_flag),\n",
    "                       SparseFeat('shop_id', max(test_shop_part['门店ID'].max(),train_shop_part['门店ID'].max()) + 1, embedding_dim=8, use_hash=hash_flag),\n",
    "                       SparseFeat('request_cate_id',  max(test_context['请求类目ID'].max(),train_context['请求类目ID'].max()) + 1, embedding_dim=4, use_hash=hash_flag),\n",
    "                       SparseFeat('cate_fir_id', max(test_shop_part['门店一级类目'].max(),train_shop_part['门店一级类目'].max()) + 1, embedding_dim=2, use_hash=hash_flag),\n",
    "                       SparseFeat('cate_sec_id', max(test_shop_part['门店二级类目'].max(),train_shop_part['门店二级类目'].max()) + 1, embedding_dim=4, use_hash=hash_flag),\n",
    "                       SparseFeat('cate_thr_id', max(test_shop_part['门店三级类目'].max(),train_shop_part['门店三级类目'].max()) + 1, embedding_dim=4, use_hash=hash_flag),\n",
    "                       SparseFeat('mall_id', max(test_shop_part['门店商圈'].max(),train_shop_part['门店商圈'].max()) + 1, embedding_dim=4, use_hash=hash_flag),\n",
    "                       DenseFeat('age', 1),\n",
    "                      DenseFeat('user_pca1', 1),\n",
    "                      DenseFeat('dis', 1),\n",
    "                      DenseFeat('score', 1),\n",
    "                      DenseFeat('price', 1),\n",
    "                      DenseFeat('shop_pca1', 1),\n",
    "                      DenseFeat('cos', 1)]\n",
    "\n",
    "    feature_columns += [\n",
    "        VarLenSparseFeat(SparseFeat('hist_shop_id', vocabulary_size=max(test_shop_part['门店ID'].max(),train_shop_part['门店ID'].max()) + 1, embedding_dim=8, embedding_name='shop_id'),\n",
    "                         maxlen=length, length_name=\"seq_length\"),\n",
    "        VarLenSparseFeat(SparseFeat('hist_request_cate_id', vocabulary_size=max(test_context['请求类目ID'].max(),train_context['请求类目ID'].max()) + 1, embedding_dim=4, embedding_name='request_cate_id'),\n",
    "                         maxlen=length,\n",
    "                         length_name=\"seq_length\"),\n",
    "        VarLenSparseFeat(SparseFeat('hist_cate_fir_id', vocabulary_size=max(test_shop_part['门店一级类目'].max(),train_shop_part['门店一级类目'].max()) + 1, embedding_dim=2, embedding_name='cate_fir_id'),\n",
    "                         maxlen=length, length_name=\"seq_length\"),\n",
    "        VarLenSparseFeat(SparseFeat('hist_cate_sec_id', vocabulary_size=max(test_shop_part['门店二级类目'].max(),train_shop_part['门店二级类目'].max()) + 1, embedding_dim=4, embedding_name='cate_sec_id'),\n",
    "                         maxlen=length,length_name=\"seq_length\"),\n",
    "        VarLenSparseFeat(SparseFeat('hist_cate_thr_id', vocabulary_size=max(test_shop_part['门店三级类目'].max(),train_shop_part['门店三级类目'].max())+ 1, embedding_dim=4, embedding_name='cate_thr_id'),\n",
    "                         maxlen=length,length_name=\"seq_length\"),\n",
    "        VarLenSparseFeat(SparseFeat('hist_mall_id', vocabulary_size=max(test_shop_part['门店商圈'].max(),train_shop_part['门店商圈'].max()) + 1, embedding_dim=4, embedding_name='mall_id'),\n",
    "                         maxlen=length,length_name=\"seq_length\")]\n",
    "        # VarLenDenseFeat(DenseFeat('his_score', 1),\n",
    "        #                  maxlen=length,length_name=\"seq_length\"),\n",
    "        # VarLenDenseFeat(DenseFeat('his_price', 1),\n",
    "        #                  maxlen=length,length_name=\"seq_length\"),\n",
    "        # VarLenDenseFeat(DenseFeat('his_shop_pca', 1),\n",
    "        #                  maxlen=length,length_name=\"seq_length\")\n",
    "\n",
    "    behavior_feature_list = [\"shop_id\", \n",
    "                             'request_cate_id','cate_fir_id','cate_sec_id','cate_thr_id',\n",
    "                            'mall_id']\n",
    "\n",
    "\n",
    "                      \n",
    "    feature_dict = {'user': train_all_data['用户ID'].values, \n",
    "                    'gender': train_all_data['性别'].values,\n",
    "                    'occupation': train_all_data['职业'].values, \n",
    "                    'age':train_all_data['年龄'].values,\n",
    "                    'cos':train_all_data['cos'].values,\n",
    "                    'user_pca1':train_all_data['user_pca1'].values,'dis':train_all_data['dis'].values,\n",
    "                    'score':train_all_data['平均分数'].values,'price':train_all_data['price'].values,\n",
    "                    'shop_pca1':train_all_data['shop_pca1'].values,\n",
    "                    'shop_id': train_all_data['门店ID'].values, 'request_cate_id': train_all_data['请求类目ID'].values,\n",
    "                    'cate_fir_id':train_all_data['门店一级类目'].values,'cate_sec_id': train_all_data['门店二级类目'].values,\n",
    "                    'cate_thr_id': train_all_data['门店三级类目'].values,'mall_id': train_all_data['门店商圈'].values,\n",
    "                    'hist_shop_id':np.array(list(train_all_data['shop_ids'].values)),'hist_request_cate_id':np.array(list(train_all_data['request_cate_ids'].values)),\n",
    "                    'hist_cate_fir_id':np.array(list(train_all_data['fir_ids'].values)),'hist_cate_sec_id':np.array(list(train_all_data['sec_ids'].values)),\n",
    "                    'hist_cate_thr_id':np.array(list(train_all_data['thr_ids'].values)),'hist_mall_id':np.array(list(train_all_data['mall_ids'].values)),\n",
    "                    # 'his_score':train_all_data['his_score'],'his_price':train_all_data['his_price'],\n",
    "                    # 'his_shop_pca':train_all_data['his_shop_pca'], \n",
    "                    \"seq_length\": train_all_data['behavior_len'].values}\n",
    "    \n",
    "\n",
    "    if use_neg:\n",
    "        feature_dict['neg_hist_shop_id'] = np.array(list(train_all_data['neg_shop_ids'].values))\n",
    "        feature_dict['neg_hist_request_cate_id'] = np.array(list(train_all_data['neg_request_cate_ids'].values))\n",
    "        feature_dict['neg_hist_cate_fir_id'] = np.array(list(train_all_data['neg_fir_ids'].values))\n",
    "        feature_dict['neg_hist_cate_sec_id'] = np.array(list(train_all_data['sec_ids'].values))\n",
    "        feature_dict['neg_hist_cate_thr_id'] = np.array(list(train_all_data['thr_ids'].values))\n",
    "        feature_dict['neg_hist_mall_id'] = np.array(list(train_all_data['neg_mall_ids'].values))\n",
    "        feature_dict['neg_seq_length'] = train_all_data['neg_behavior_len'].values\n",
    "        feature_columns += [\n",
    "        VarLenSparseFeat(SparseFeat('neg_hist_shop_id', vocabulary_size=max(test_shop_part['门店ID'].max(),train_shop_part['门店ID'].max()) + 1, embedding_dim=8, embedding_name='shop_id'),\n",
    "                         maxlen=length, length_name=\"neg_seq_length\"),\n",
    "        VarLenSparseFeat(SparseFeat('neg_hist_request_cate_id', vocabulary_size=max(test_context['请求类目ID'].max(),train_context['请求类目ID'].max()) + 1, embedding_dim=4, embedding_name='request_cate_id'),\n",
    "                         maxlen=length,\n",
    "                         length_name=\"neg_seq_length\"),\n",
    "        VarLenSparseFeat(SparseFeat('neg_hist_cate_fir_id', vocabulary_size=max(test_shop_part['门店一级类目'].max(),train_shop_part['门店一级类目'].max()) + 1, embedding_dim=2, embedding_name='cate_fir_id'),\n",
    "                         maxlen=length, length_name=\"neg_seq_length\"),\n",
    "        VarLenSparseFeat(SparseFeat('neg_hist_cate_sec_id', vocabulary_size=max(test_shop_part['门店二级类目'].max(),train_shop_part['门店二级类目'].max()) + 1, embedding_dim=4, embedding_name='cate_sec_id'),\n",
    "                         maxlen=length,length_name=\"neg_seq_length\"),\n",
    "        VarLenSparseFeat(SparseFeat('neg_hist_cate_thr_id', vocabulary_size=max(test_shop_part['门店三级类目'].max(),train_shop_part['门店三级类目'].max())+ 1, embedding_dim=4, embedding_name='cate_thr_id'),\n",
    "                         maxlen=length,length_name=\"neg_seq_length\"),\n",
    "        VarLenSparseFeat(SparseFeat('neg_hist_mall_id', vocabulary_size=max(test_shop_part['门店商圈'].max(),train_shop_part['门店商圈'].max()) + 1, embedding_dim=4, embedding_name='mall_id'),\n",
    "                         maxlen=length,length_name=\"neg_seq_length\")]\n",
    "\n",
    "    x = {name: feature_dict[name] for name in get_feature_names(feature_columns)}\n",
    "    \n",
    "    # print(x)\n",
    "    # print(feature_columns)\n",
    "    y = train_all_data['label'].values\n",
    "    return x, y, feature_columns, behavior_feature_list\n",
    "\n",
    "\n",
    "if __name__ == \"__main__\":\n",
    "    x, y, feature_columns, behavior_feature_list = get_xy_fd(resample, use_neg=True)\n",
    "    \n",
    "    device = 'cpu'\n",
    "    use_cuda = True\n",
    "    if use_cuda and torch.cuda.is_available():\n",
    "        print('cuda ready...')\n",
    "        device = 'cuda:0'\n",
    "    torch.backends.cudnn.enabled = False\n",
    "    \n",
    "    model = DIEN(feature_columns, behavior_feature_list,\n",
    "                 dnn_hidden_units=[128, 64], dnn_dropout=0.8, gru_type=\"AUGRU\", use_negsampling=True, device=device)\n",
    "\n",
    "    # model.compile('adam', 'binary_crossentropy',\n",
    "    #               metrics=['binary_crossentropy', 'auc'])\n",
    "    from torch.optim import Adam\n",
    "    model.compile(Adam(model.parameters(), lr=0.001,weight_decay=1e-7), 'binary_crossentropy',\n",
    "                  metrics=['binary_crossentropy', 'auc'])\n",
    "    # model = DIN(feature_columns, behavior_feature_list, device=device, att_weight_normalization=True)\n",
    "    # model.compile('adagrad', 'binary_crossentropy',\n",
    "    #               metrics=['binary_crossentropy'])\n",
    "    # model.train()\n",
    "    history = model.fit(x, y, batch_size=5000, epochs=20, verbose=1, validation_split=0.2, shuffle=True)\n"
   ]
  },
  {
   "cell_type": "code",
   "execution_count": 22,
   "id": "fef8d4e4-c046-458b-b8ea-40595b07828e",
   "metadata": {},
   "outputs": [
    {
     "data": {
      "image/png": "[encoded data removed]",
      "text/plain": [
       "<Figure size 432x288 with 1 Axes>"
      ]
     },
     "metadata": {
      "needs_background": "light"
     },
     "output_type": "display_data"
    }
   ],
   "source": [
    "import matplotlib.pyplot as plt\n",
    "fig2, ax_loss = plt.subplots()\n",
    "plt.xlabel('Epoch')\n",
    "plt.ylabel('AUC')\n",
    "plt.title('Model- AUC')\n",
    "plt.plot(history.history['auc'])\n",
    "plt.plot(history.history['val_auc'])\n",
    "plt.legend(['Training', 'Validation'])\n",
    "plt.grid()\n",
    "plt.show()\n"
   ]
  },
  {
   "cell_type": "code",
   "execution_count": 18,
   "id": "73a33dae-0031-4f42-ba57-131a5f00e662",
   "metadata": {},
   "outputs": [],
   "source": [
    "pos_his = train_data[train_data['label']==1]\n",
    "pos_his = pos_his.merge(train_shop_part,how='left',on ='门店ID')\n",
    "test_group = pos_his.sort_values(by=[\"日期\"]).groupby(\"用户ID\")\n",
    "\n",
    "test_history_data = pd.DataFrame(\n",
    "    data={\n",
    "        \"user_id\": list(test_group.groups.keys()),\n",
    "        \"shop_ids\": list(test_group['门店ID'].apply(list)),\n",
    "        \"request_cate_ids\": list(test_group['请求类目ID'].apply(list)),\n",
    "        \"fir_ids\": list(test_group['门店一级类目'].apply(list)),\n",
    "        \"sec_ids\": list(test_group['门店二级类目'].apply(list)),\n",
    "        \"thr_ids\": list(test_group['门店三级类目'].apply(list)),\n",
    "        \"mall_ids\": list(test_group['门店商圈'].apply(list)),\n",
    "        \"his_score\": list(test_group['平均分数'].apply(list)),\n",
    "        \"his_price\": list(test_group['price'].apply(list)),\n",
    "        \"his_shop_pca\": list(test_group['shop_pca1'].apply(list))\n",
    "        # \"date\": list(train_group['日期'].apply(list)),\n",
    "    }\n",
    ")\n",
    "test_history_data['behavior_len'] = test_history_data[\"shop_ids\"].apply(lambda x : len(x))\n"
   ]
  },
  {
   "cell_type": "code",
   "execution_count": 19,
   "id": "7c254b27-9cbf-47b3-93a4-40d83b46b25f",
   "metadata": {},
   "outputs": [],
   "source": [
    "neg_his = train_data[train_data['label']==0]\n",
    "neg_his = neg_his.merge(train_shop_part,how='left',on ='门店ID')\n",
    "test_neg_group = neg_his.sort_values(by=[\"日期\"]).groupby(\"用户ID\")\n",
    "\n",
    "test_neg_history_data = pd.DataFrame(\n",
    "    data={\n",
    "        \"user_id\": list(test_neg_group.groups.keys()),\n",
    "        \"neg_shop_ids\": list(test_neg_group['门店ID'].apply(list)),\n",
    "        \"neg_request_cate_ids\": list(test_neg_group['请求类目ID'].apply(list)),\n",
    "        \"neg_fir_ids\": list(test_neg_group['门店一级类目'].apply(list)),\n",
    "        \"neg_sec_ids\": list(test_neg_group['门店二级类目'].apply(list)),\n",
    "        \"neg_thr_ids\": list(test_neg_group['门店三级类目'].apply(list)),\n",
    "        \"neg_mall_ids\": list(test_neg_group['门店商圈'].apply(list)),\n",
    "        \"neg_his_score\": list(test_neg_group['平均分数'].apply(list)),\n",
    "        \"neg_his_price\": list(test_neg_group['price'].apply(list)),\n",
    "        \"neg_his_shop_pca\": list(test_neg_group['shop_pca1'].apply(list)),\n",
    "        # \"date\": list(train_group['日期'].apply(list)),\n",
    "    }\n",
    ")\n",
    "test_neg_history_data['neg_behavior_len'] = test_neg_history_data[\"neg_shop_ids\"].apply(lambda x : len(x))"
   ]
  },
  {
   "cell_type": "code",
   "execution_count": 20,
   "id": "15dca179-b0fd-4e2d-80a7-c2b5d1fab2a8",
   "metadata": {},
   "outputs": [],
   "source": [
    "test_all_data = test_context.merge(test_user_part,how='left',on='用户ID')\n",
    "test_all_data = test_all_data.merge(test_shop_part,how='left',on='门店ID')\n",
    "test_all_data = test_all_data.merge(test_history_data,how='left',left_on='用户ID',right_on = 'user_id')\n",
    "test_all_data = test_all_data.drop('user_id',axis=1)\n",
    "test_all_data = test_all_data.merge(test_neg_history_data,how='left',left_on='用户ID',right_on = 'user_id')\n",
    "def fill(x):\n",
    "    if x is np.nan:\n",
    "        return [0,]*length\n",
    "    else:\n",
    "        return x\n",
    "test_all_data[['shop_ids', 'request_cate_ids',\n",
    "       'fir_ids', 'sec_ids', 'thr_ids', 'mall_ids', 'his_score', 'his_price',\n",
    "       'his_shop_pca','neg_shop_ids', 'neg_request_cate_ids', 'neg_fir_ids', 'neg_sec_ids',\n",
    "       'neg_thr_ids', 'neg_mall_ids', 'neg_his_score', 'neg_his_price', 'neg_his_shop_pca']] = test_all_data[['shop_ids', 'request_cate_ids',\n",
    "       'fir_ids', 'sec_ids', 'thr_ids', 'mall_ids', 'his_score', 'his_price',\n",
    "       'his_shop_pca','neg_shop_ids', 'neg_request_cate_ids', 'neg_fir_ids', 'neg_sec_ids',\n",
    "       'neg_thr_ids', 'neg_mall_ids', 'neg_his_score', 'neg_his_price', 'neg_his_shop_pca']].applymap(fill)\n",
    "test_all_data[['behavior_len','neg_behavior_len']] = test_all_data[['behavior_len','neg_behavior_len']].fillna(0)\n",
    "test_all_data['user_id'] = test_all_data['user_id'].fillna(0)\n",
    "\n",
    "test_all_data[['shop_ids', 'request_cate_ids',\n",
    "       'fir_ids', 'sec_ids', 'thr_ids', 'mall_ids', 'his_score', 'his_price',\n",
    "       'his_shop_pca','neg_shop_ids', 'neg_request_cate_ids', 'neg_fir_ids', 'neg_sec_ids',\n",
    "       'neg_thr_ids', 'neg_mall_ids', 'neg_his_score', 'neg_his_price', 'neg_his_shop_pca']] = test_all_data[['shop_ids', 'request_cate_ids',\n",
    "       'fir_ids', 'sec_ids', 'thr_ids', 'mall_ids', 'his_score', 'his_price',\n",
    "       'his_shop_pca','neg_shop_ids', 'neg_request_cate_ids', 'neg_fir_ids', 'neg_sec_ids',\n",
    "       'neg_thr_ids', 'neg_mall_ids', 'neg_his_score', 'neg_his_price', 'neg_his_shop_pca']].applymap(complement)\n",
    "test_all_data[['behavior_len','neg_behavior_len']] = test_all_data[['behavior_len','neg_behavior_len']].applymap(lambda x : length if x>length else x)"
   ]
  },
  {
   "cell_type": "code",
   "execution_count": 25,
   "id": "3a979187-72d5-4b75-8732-e723f25306c0",
   "metadata": {},
   "outputs": [],
   "source": [
    "def get_test_xy_fd(use_neg=False, hash_flag=False):\n",
    "    feature_columns = [SparseFeat('user', max(test_user_part['用户ID'].max(),train_user_part['用户ID'].max())+1, embedding_dim=8, use_hash=hash_flag),\n",
    "                       SparseFeat('gender', 4, embedding_dim=4, use_hash=hash_flag),\n",
    "                       SparseFeat('occupation', train_user_part['职业'].max()+1, embedding_dim=4, use_hash=hash_flag),\n",
    "                       SparseFeat('shop_id', max(test_shop_part['门店ID'].max(),train_shop_part['门店ID'].max()) + 1, embedding_dim=8, use_hash=hash_flag),\n",
    "                       SparseFeat('request_cate_id',  max(test_context['请求类目ID'].max(),train_context['请求类目ID'].max()) + 1, embedding_dim=4, use_hash=hash_flag),\n",
    "                       SparseFeat('cate_fir_id', max(test_shop_part['门店一级类目'].max(),train_shop_part['门店一级类目'].max()) + 1, embedding_dim=2, use_hash=hash_flag),\n",
    "                       SparseFeat('cate_sec_id', max(test_shop_part['门店二级类目'].max(),train_shop_part['门店二级类目'].max()) + 1, embedding_dim=4, use_hash=hash_flag),\n",
    "                       SparseFeat('cate_thr_id', max(test_shop_part['门店三级类目'].max(),train_shop_part['门店三级类目'].max()) + 1, embedding_dim=4, use_hash=hash_flag),\n",
    "                       SparseFeat('mall_id', max(test_shop_part['门店商圈'].max(),train_shop_part['门店商圈'].max()) + 1, embedding_dim=4, use_hash=hash_flag),\n",
    "                       DenseFeat('age', 1),\n",
    "                      DenseFeat('user_pca1', 1),\n",
    "                      DenseFeat('dis', 1),\n",
    "                      DenseFeat('score', 1),\n",
    "                      DenseFeat('price', 1),\n",
    "                      DenseFeat('shop_pca1', 1),\n",
    "                      DenseFeat('cos', 1)]\n",
    "\n",
    "    feature_columns += [\n",
    "        VarLenSparseFeat(SparseFeat('hist_shop_id', vocabulary_size=max(test_shop_part['门店ID'].max(),train_shop_part['门店ID'].max()) + 1, embedding_dim=8, embedding_name='shop_id'),\n",
    "                         maxlen=length, length_name=\"seq_length\"),\n",
    "        VarLenSparseFeat(SparseFeat('hist_request_cate_id', vocabulary_size=max(test_context['请求类目ID'].max(),train_context['请求类目ID'].max()) + 1, embedding_dim=4, embedding_name='request_cate_id'),\n",
    "                         maxlen=length,\n",
    "                         length_name=\"seq_length\"),\n",
    "        VarLenSparseFeat(SparseFeat('hist_cate_fir_id', vocabulary_size=max(test_shop_part['门店一级类目'].max(),train_shop_part['门店一级类目'].max()) + 1, embedding_dim=2, embedding_name='cate_fir_id'),\n",
    "                         maxlen=length, length_name=\"seq_length\"),\n",
    "        VarLenSparseFeat(SparseFeat('hist_cate_sec_id', vocabulary_size=max(test_shop_part['门店二级类目'].max(),train_shop_part['门店二级类目'].max()) + 1, embedding_dim=4, embedding_name='cate_sec_id'),\n",
    "                         maxlen=length,length_name=\"seq_length\"),\n",
    "        VarLenSparseFeat(SparseFeat('hist_cate_thr_id', vocabulary_size=max(test_shop_part['门店三级类目'].max(),train_shop_part['门店三级类目'].max())+ 1, embedding_dim=4, embedding_name='cate_thr_id'),\n",
    "                         maxlen=length,length_name=\"seq_length\"),\n",
    "        VarLenSparseFeat(SparseFeat('hist_mall_id', vocabulary_size=max(test_shop_part['门店商圈'].max(),train_shop_part['门店商圈'].max()) + 1, embedding_dim=4, embedding_name='mall_id'),\n",
    "                         maxlen=length,length_name=\"seq_length\")]\n",
    "        # VarLenDenseFeat(DenseFeat('his_score', 1),\n",
    "        #                  maxlen=length,length_name=\"seq_length\"),\n",
    "        # VarLenDenseFeat(DenseFeat('his_price', 1),\n",
    "        #                  maxlen=length,length_name=\"seq_length\"),\n",
    "        # VarLenDenseFeat(DenseFeat('his_shop_pca', 1),\n",
    "        #                  maxlen=length,length_name=\"seq_length\")\n",
    "\n",
    "    behavior_feature_list = [\"shop_id\", \n",
    "                             'request_cate_id','cate_fir_id','cate_sec_id','cate_thr_id',\n",
    "                            'mall_id']\n",
    "\n",
    "  \n",
    "                        \n",
    "    feature_dict = {'user': test_all_data['用户ID'].values, \n",
    "                    'gender': test_all_data['性别'].values,\n",
    "                    'occupation': test_all_data['职业'].values, \n",
    "                    'age':test_all_data['年龄'].values,\n",
    "                    'cos':test_all_data['cos'].values,\n",
    "                    'user_pca1':test_all_data['user_pca1'].values,'dis':test_all_data['dis'].values,\n",
    "                    'score':test_all_data['平均分数'].values,'price':test_all_data['price'].values,\n",
    "                    'shop_pca1':test_all_data['shop_pca1'].values,\n",
    "                    'shop_id': test_all_data['门店ID'].values, 'request_cate_id': test_all_data['请求类目ID'].values,\n",
    "                    'cate_fir_id':test_all_data['门店一级类目'].values,'cate_sec_id': test_all_data['门店二级类目'].values,\n",
    "                    'cate_thr_id': test_all_data['门店三级类目'].values,'mall_id': test_all_data['门店商圈'].values,\n",
    "                    'hist_shop_id':np.array(list(test_all_data['shop_ids'].values)),'hist_request_cate_id':np.array(list(test_all_data['request_cate_ids'].values)),\n",
    "                    'hist_cate_fir_id':np.array(list(test_all_data['fir_ids'].values)),'hist_cate_sec_id':np.array(list(test_all_data['sec_ids'].values)),\n",
    "                    'hist_cate_thr_id':np.array(list(test_all_data['thr_ids'].values)),'hist_mall_id':np.array(list(test_all_data['mall_ids'].values)),\n",
    "                    # 'his_score':train_all_data['his_score'],'his_price':train_all_data['his_price'],\n",
    "                    # 'his_shop_pca':train_all_data['his_shop_pca'], \n",
    "                    \"seq_length\": test_all_data['behavior_len'].values}\n",
    "    \n",
    "    \n",
    "\n",
    "    if use_neg:\n",
    "        feature_dict['neg_hist_shop_id'] = np.array(list(test_all_data['neg_shop_ids'].values))\n",
    "        feature_dict['neg_hist_request_cate_id'] = np.array(list(test_all_data['neg_request_cate_ids'].values))\n",
    "        feature_dict['neg_hist_cate_fir_id'] = np.array(list(test_all_data['neg_fir_ids'].values))\n",
    "        feature_dict['neg_hist_cate_sec_id'] = np.array(list(test_all_data['sec_ids'].values))\n",
    "        feature_dict['neg_hist_cate_thr_id'] = np.array(list(test_all_data['thr_ids'].values))\n",
    "        feature_dict['neg_hist_mall_id'] = np.array(list(test_all_data['neg_mall_ids'].values))\n",
    "        feature_dict['neg_seq_length'] = test_all_data['neg_behavior_len'].values\n",
    "        feature_columns += [\n",
    "        VarLenSparseFeat(SparseFeat('neg_hist_shop_id', vocabulary_size=max(test_shop_part['门店ID'].max(),train_shop_part['门店ID'].max()) + 1, embedding_dim=8, embedding_name='shop_id'),\n",
    "                         maxlen=length, length_name=\"neg_seq_length\"),\n",
    "        VarLenSparseFeat(SparseFeat('neg_hist_request_cate_id', vocabulary_size=max(test_context['请求类目ID'].max(),train_context['请求类目ID'].max()) + 1, embedding_dim=4, embedding_name='request_cate_id'),\n",
    "                         maxlen=length,\n",
    "                         length_name=\"neg_seq_length\"),\n",
    "        VarLenSparseFeat(SparseFeat('neg_hist_cate_fir_id', vocabulary_size=max(test_shop_part['门店一级类目'].max(),train_shop_part['门店一级类目'].max()) + 1, embedding_dim=2, embedding_name='cate_fir_id'),\n",
    "                         maxlen=length, length_name=\"neg_seq_length\"),\n",
    "        VarLenSparseFeat(SparseFeat('neg_hist_cate_sec_id', vocabulary_size=max(test_shop_part['门店二级类目'].max(),train_shop_part['门店二级类目'].max()) + 1, embedding_dim=4, embedding_name='cate_sec_id'),\n",
    "                         maxlen=length,length_name=\"neg_seq_length\"),\n",
    "        VarLenSparseFeat(SparseFeat('neg_hist_cate_thr_id', vocabulary_size=max(test_shop_part['门店三级类目'].max(),train_shop_part['门店三级类目'].max())+ 1, embedding_dim=4, embedding_name='cate_thr_id'),\n",
    "                         maxlen=length,length_name=\"neg_seq_length\"),\n",
    "        VarLenSparseFeat(SparseFeat('neg_hist_mall_id', vocabulary_size=max(test_shop_part['门店商圈'].max(),train_shop_part['门店商圈'].max()) + 1, embedding_dim=4, embedding_name='mall_id'),\n",
    "                         maxlen=length,length_name=\"neg_seq_length\")]\n",
    "\n",
    "    x = {name: feature_dict[name] for name in get_feature_names(feature_columns)}\n",
    "    \n",
    "    # print(x)\n",
    "    # print(feature_columns)\n",
    "    # y = train_all_data['label'].values\n",
    "    return x\n",
    "\n",
    "test_x= get_test_xy_fd(use_neg=True)\n",
    "y_pred = model.predict(test_x)"
   ]
  },
  {
   "cell_type": "code",
   "execution_count": 27,
   "id": "6d8c1eb8-4dca-429c-923b-352190c8e5c2",
   "metadata": {},
   "outputs": [],
   "source": [
    "result = pd.DataFrame()\n",
    "result['re'] = (y_pred>=0.5).astype('int').flatten()\n",
    "result.to_csv('result/out_cos_2.csv',header=None)"
   ]
  },
  {
   "cell_type": "code",
   "execution_count": 26,
   "id": "20c8138f-0fd8-46a1-846a-3ee437dc5c1c",
   "metadata": {},
   "outputs": [
    {
     "data": {
      "text/plain": [
       "174696"
      ]
     },
     "execution_count": 26,
     "metadata": {},
     "output_type": "execute_result"
    }
   ],
   "source": [
    "(y_pred>0.5).astype('int').flatten().sum()"
   ]
  },
  {
   "cell_type": "code",
   "execution_count": null,
   "id": "e130c14c-8a3e-4420-8231-63f475970845",
   "metadata": {},
   "outputs": [],
   "source": [
    "!pip install -U deepctr-torch"
   ]
  },
  {
   "cell_type": "code",
   "execution_count": null,
   "id": "6d2a3d11-03f6-4389-b5b4-06b14c7fa94d",
   "metadata": {},
   "outputs": [],
   "source": [
    "import tensorflow as tf\n",
    "\n",
    "\n",
    "\n",
    "# Config\n",
    "print(tf.__version__)\n",
    "print(\"GPU Available: \", tf.test.is_gpu_available())"
   ]
  },
  {
   "cell_type": "code",
   "execution_count": null,
   "id": "f8814892-8a80-4552-b2db-0ea629ffed40",
   "metadata": {},
   "outputs": [],
   "source": [
    "np.array([[1, 2, 3, 0], [1, 2, 3, 0], [1, 2, 0, 0], [1, 2, 0, 0]])"
   ]
  },
  {
   "cell_type": "code",
   "execution_count": null,
   "id": "e839d1e1-6d27-436f-8983-96597053620e",
   "metadata": {},
   "outputs": [],
   "source": [
    "train_target.label.sum()"
   ]
  },
  {
   "cell_type": "code",
   "execution_count": null,
   "id": "fd863348-f2b8-4166-b08a-583e7c60e936",
   "metadata": {},
   "outputs": [],
   "source": []
  }
 ],
 "metadata": {
  "kernelspec": {
   "display_name": "Python 3",
   "language": "python",
   "name": "python3"
  },
  "language_info": {
   "codemirror_mode": {
    "name": "ipython",
    "version": 3
   },
   "file_extension": ".py",
   "mimetype": "text/x-python",
   "name": "python",
   "nbconvert_exporter": "python",
   "pygments_lexer": "ipython3",
   "version": "3.6.13"
  }
 },
 "nbformat": 4,
 "nbformat_minor": 5
}
